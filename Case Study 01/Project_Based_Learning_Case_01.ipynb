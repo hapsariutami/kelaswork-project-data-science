{
 "cells": [
  {
   "cell_type": "markdown",
   "id": "4042522f",
   "metadata": {},
   "source": [
    "# CASE 01 -  Sales Force Training\n",
    "Perusahaan X ingin meningkatkan penjualan mereka. Dari data penjualan \n",
    "sebelumnya menunjukkan bahwa penjualan rata-rata yaitu $100 per \n",
    "transaksi. Setelah melakukan training kepada pekerja sales, data \n",
    "penjualan terbaru (yang diambil dari 25 sampel pekerja sales) tersimpan \n",
    "Lakukan beberapa langkah berikut:\n",
    "1. Buatlah DataFrame 1 kolom dengan 25 baris bernama ‘TransactionAmount’\n",
    "2. Buatlah analisis measure of central tendency dari data ‘TransactionAmount’\n",
    "3. Lakukan juga analisis measure of variability dari data ‘TransactionAmount’\n",
    "4. Tentukan H0 & H1 untuk persiapan dilakukan T-Test\n",
    "5. Lakukan proses T-Test pada data rata-rata jumlah transaksi (dengan alpha = 5%)\n",
    "6. Buatlah kesimpulan dari hasil pengujian sales force training!"
   ]
  },
  {
   "cell_type": "code",
   "execution_count": 1,
   "id": "309dabb9-e570-4d6f-b227-5f2fdd40736b",
   "metadata": {
    "executionInfo": {
     "elapsed": 584,
     "status": "ok",
     "timestamp": 1671520030242,
     "user": {
      "displayName": "Stephanie Fani",
      "userId": "03013489333346707504"
     },
     "user_tz": -420
    },
    "id": "309dabb9-e570-4d6f-b227-5f2fdd40736b"
   },
   "outputs": [],
   "source": [
    "#Import Libraries\n",
    "import pandas as pd\n",
    "import numpy as np\n",
    "import scipy.stats as stats"
   ]
  },
  {
   "cell_type": "code",
   "execution_count": 3,
   "id": "56587e98-c378-44b9-93f0-d796b76124ff",
   "metadata": {
    "colab": {
     "base_uri": "https://localhost:8080/",
     "height": 833
    },
    "executionInfo": {
     "elapsed": 4,
     "status": "ok",
     "timestamp": 1671520030243,
     "user": {
      "displayName": "Stephanie Fani",
      "userId": "03013489333346707504"
     },
     "user_tz": -420
    },
    "id": "56587e98-c378-44b9-93f0-d796b76124ff",
    "outputId": "34e681a7-bda2-4ea7-c895-b08208412753"
   },
   "outputs": [
    {
     "name": "stdout",
     "output_type": "stream",
     "text": [
      "    TransactionAmount\n",
      "0                 100\n",
      "1                 150\n",
      "2                  50\n",
      "3                 100\n",
      "4                 130\n",
      "5                 120\n",
      "6                 100\n",
      "7                  85\n",
      "8                  70\n",
      "9                 150\n",
      "10                150\n",
      "11                120\n",
      "12                 50\n",
      "13                100\n",
      "14                100\n",
      "15                140\n",
      "16                 90\n",
      "17                150\n",
      "18                 50\n",
      "19                 90\n",
      "20                120\n",
      "21                100\n",
      "22                110\n",
      "23                 75\n",
      "24                 65\n"
     ]
    }
   ],
   "source": [
    "#Create DataFrame\n",
    "transaction_data = [100, 150, 50, 100, 130, 120, 100, 85, 70, 150, 150, 120, 50,\n",
    "                   100, 100, 140, 90, 150, 50, 90, 120, 100, 110, 75, 65]\n",
    "df = pd.DataFrame({'TransactionAmount' : transaction_data})\n",
    "print(df)"
   ]
  },
  {
   "cell_type": "code",
   "execution_count": 5,
   "id": "KOFYWfvUtfMx",
   "metadata": {
    "colab": {
     "base_uri": "https://localhost:8080/"
    },
    "executionInfo": {
     "elapsed": 6,
     "status": "ok",
     "timestamp": 1671520030708,
     "user": {
      "displayName": "Stephanie Fani",
      "userId": "03013489333346707504"
     },
     "user_tz": -420
    },
    "id": "KOFYWfvUtfMx",
    "outputId": "4d59d08d-7da4-4d66-c8e2-35761e1ac331"
   },
   "outputs": [
    {
     "name": "stdout",
     "output_type": "stream",
     "text": [
      "102.6\n",
      "100\n"
     ]
    }
   ],
   "source": [
    "#Central Tendency\n",
    "import statistics\n",
    "print(statistics.mean(transaction_data))\n",
    "print(statistics.median(transaction_data))"
   ]
  },
  {
   "cell_type": "markdown",
   "id": "25938257",
   "metadata": {
    "executionInfo": {
     "elapsed": 1,
     "status": "ok",
     "timestamp": 1671520033894,
     "user": {
      "displayName": "Stephanie Fani",
      "userId": "03013489333346707504"
     },
     "user_tz": -420
    },
    "id": "ceRxEGdTt966"
   },
   "source": [
    "#### Dari analisis central tendency yang meliputi mean, median dari data 'TransactionAmount':\n",
    "1. Nilai Mean berbeda dari nilai sebelumnya ($100) yaitu 102.6, ini bisa menandakan peningkatan efektivitas pelatihan\n",
    "\n",
    "2. Nilai Median sama dari nilai sebelumnya ($100) hal ini bisa memberikan gambaran yang lebih stabil tentang perubahan dalam distribusi data."
   ]
  },
  {
   "cell_type": "code",
   "execution_count": 7,
   "id": "UcbHy344uQ-G",
   "metadata": {
    "colab": {
     "base_uri": "https://localhost:8080/"
    },
    "executionInfo": {
     "elapsed": 525,
     "status": "ok",
     "timestamp": 1671520041794,
     "user": {
      "displayName": "Stephanie Fani",
      "userId": "03013489333346707504"
     },
     "user_tz": -420
    },
    "id": "UcbHy344uQ-G",
    "outputId": "0efd8348-3879-4a79-8085-fd842b5d1a60"
   },
   "outputs": [
    {
     "name": "stdout",
     "output_type": "stream",
     "text": [
      "972.2399999999999\n",
      "31.18076330047101\n",
      "100\n",
      "85.0\n",
      "100.0\n",
      "120.0\n"
     ]
    }
   ],
   "source": [
    "#Variability\n",
    "import numpy as np\n",
    "print(np.var(transaction_data))\n",
    "print(np.std(transaction_data))\n",
    "print(np.max(transaction_data) - np.min(transaction_data))\n",
    "print(np.quantile(transaction_data, 0.25))\n",
    "print(np.quantile(transaction_data, 0.5))\n",
    "print(np.quantile(transaction_data, 0.75))"
   ]
  },
  {
   "cell_type": "markdown",
   "id": "3696e91d",
   "metadata": {
    "executionInfo": {
     "elapsed": 854,
     "status": "ok",
     "timestamp": 1671520098187,
     "user": {
      "displayName": "Stephanie Fani",
      "userId": "03013489333346707504"
     },
     "user_tz": -420
    },
    "id": "v_dl9Fneuabm"
   },
   "source": [
    "#### Analisis variability dari data 'TransactionAmount':\n",
    "Variance (Variansi): Hasil dari np.var(transaction_data) adalah sekitar 972.24. Ini menunjukkan seberapa jauh nilai-nilai dalam data 'TransactionAmount' menyebar dari rata-rata. Variansi yang tinggi menandakan adanya variasi yang besar di antara nilai-nilai tersebut.\n",
    "\n",
    "Standard Deviation (Deviasi Standar): Hasil dari np.std(transaction_data) adalah sekitar 31.18. Deviasi standar merupakan akar kuadrat dari varians, mengukur seberapa jauh nilai-nilai dalam dataset tersebar dari nilai rata-rata. Semakin besar nilai deviasi standar, semakin besar variasi data dari nilai rata-rata.\n",
    "\n",
    "Range (Rentang): Rentang antara nilai tertinggi dan terendah dari data adalah 100. Ini menunjukkan perbedaan antara nilai transaksi tertinggi dan terendah dalam dataset.\n",
    "\n",
    "Kuartil (Quartile): Quartile menyajikan titik-titik yang membagi data menjadi empat bagian yang sama besar. Di sini, kita melihat kuartil pertama (Q1) sebesar 85.0, kuartil kedua (median) sebesar 100.0, dan kuartil ketiga (Q3) sebesar 120.0. Median menunjukkan nilai tengah dari data ketika diurutkan dari yang terkecil hingga yang terbesar.\n"
   ]
  },
  {
   "cell_type": "markdown",
   "id": "e0c8aeb3",
   "metadata": {
    "executionInfo": {
     "elapsed": 1,
     "status": "ok",
     "timestamp": 1671520106679,
     "user": {
      "displayName": "Stephanie Fani",
      "userId": "03013489333346707504"
     },
     "user_tz": -420
    },
    "id": "3786f132-4bd1-4c72-a5d9-1044aa088818"
   },
   "source": [
    "#### Define H0 and H1\n",
    "H0 : the average of training sales transactions amount = 100\n",
    "\n",
    "H1 : the average of training sales transactions amount > 100"
   ]
  },
  {
   "cell_type": "markdown",
   "id": "f492a683",
   "metadata": {
    "executionInfo": {
     "elapsed": 624,
     "status": "ok",
     "timestamp": 1671520113997,
     "user": {
      "displayName": "Stephanie Fani",
      "userId": "03013489333346707504"
     },
     "user_tz": -420
    },
    "id": "b8103158-ecda-478d-9926-7ec0dcfc5c12"
   },
   "source": [
    "##### Define alpha = 0.05"
   ]
  },
  {
   "cell_type": "code",
   "execution_count": 9,
   "id": "686e0fc4-84d5-4712-ae90-b47eb3ea44ac",
   "metadata": {
    "colab": {
     "base_uri": "https://localhost:8080/"
    },
    "executionInfo": {
     "elapsed": 2,
     "status": "ok",
     "timestamp": 1671520114452,
     "user": {
      "displayName": "Stephanie Fani",
      "userId": "03013489333346707504"
     },
     "user_tz": -420
    },
    "id": "686e0fc4-84d5-4712-ae90-b47eb3ea44ac",
    "outputId": "42c97137-4bef-4516-8b06-654df3bbaa93"
   },
   "outputs": [
    {
     "data": {
      "text/plain": [
       "TtestResult(statistic=0.4085001556802841, pvalue=0.6865284813438117, df=24)"
      ]
     },
     "execution_count": 9,
     "metadata": {},
     "output_type": "execute_result"
    }
   ],
   "source": [
    "#Calculate t statistics and P-value\n",
    "#Perform one sample t-test\n",
    "\n",
    "stats.ttest_1samp(a=transaction_data, popmean=100)"
   ]
  },
  {
   "cell_type": "code",
   "execution_count": 10,
   "id": "592f6cf7",
   "metadata": {},
   "outputs": [],
   "source": [
    "#statistic=0.4085001556802841, pvalue=0.6865284813438117"
   ]
  },
  {
   "cell_type": "markdown",
   "id": "6d2892f2",
   "metadata": {
    "executionInfo": {
     "elapsed": 435,
     "status": "ok",
     "timestamp": 1671520140175,
     "user": {
      "displayName": "Stephanie Fani",
      "userId": "03013489333346707504"
     },
     "user_tz": -420
    },
    "id": "35c7de5f-3992-4872-98ea-9e9269b1557b"
   },
   "source": [
    "#### Kesimpulan dari hasil ini akan didasarkan pada nilai p-value yang diperoleh dalam analisis:\n",
    "\n",
    "Karenailai p-value (0.6865) lebih besar dari alpha (0.05 atau 5%). Maka kita gagal menolak H0\n",
    "\n",
    "Kesimpulanya : training pada sales tidak efektif dan rata-rata jumlah transaksi masih $100\n"
   ]
  },
  {
   "cell_type": "code",
   "execution_count": 11,
   "id": "9580db55-a594-4c1b-a5e6-3787906505c2",
   "metadata": {
    "executionInfo": {
     "elapsed": 1,
     "status": "ok",
     "timestamp": 1671520143687,
     "user": {
      "displayName": "Stephanie Fani",
      "userId": "03013489333346707504"
     },
     "user_tz": -420
    },
    "id": "9580db55-a594-4c1b-a5e6-3787906505c2"
   },
   "outputs": [],
   "source": [
    "#Conclude with t statistics and critical region\n",
    "#Find the critical region"
   ]
  },
  {
   "cell_type": "code",
   "execution_count": 12,
   "id": "1429f038",
   "metadata": {},
   "outputs": [
    {
     "data": {
      "text/plain": [
       "1.729132811521367"
      ]
     },
     "execution_count": 12,
     "metadata": {},
     "output_type": "execute_result"
    }
   ],
   "source": [
    "#H1: larger (right side)\n",
    "stats.t.ppf (1-0.05, 19)"
   ]
  },
  {
   "cell_type": "markdown",
   "id": "9b8836ee",
   "metadata": {
    "executionInfo": {
     "elapsed": 1,
     "status": "ok",
     "timestamp": 1671520153697,
     "user": {
      "displayName": "Stephanie Fani",
      "userId": "03013489333346707504"
     },
     "user_tz": -420
    },
    "id": "d6595428-5211-4cf7-bb61-ca8e201e6ef6"
   },
   "source": [
    "#### Kesimpulan :\n",
    "    \n",
    "Karena nilai critical region: t > 1.73\n",
    "    \n",
    "as the statistic is not in the critical region, then we fail to reject H0\n",
    "\n",
    "training pada sales tidak efektif dan rata-rata jumlah transaksi masih $100\n"
   ]
  },
  {
   "cell_type": "code",
   "execution_count": null,
   "id": "1cc8e302",
   "metadata": {},
   "outputs": [],
   "source": []
  }
 ],
 "metadata": {
  "colab": {
   "provenance": []
  },
  "kernelspec": {
   "display_name": "Python 3 (ipykernel)",
   "language": "python",
   "name": "python3"
  },
  "language_info": {
   "codemirror_mode": {
    "name": "ipython",
    "version": 3
   },
   "file_extension": ".py",
   "mimetype": "text/x-python",
   "name": "python",
   "nbconvert_exporter": "python",
   "pygments_lexer": "ipython3",
   "version": "3.11.5"
  },
  "vscode": {
   "interpreter": {
    "hash": "5e70fd34aa919644e731ce0c71c5ec6c66d3b48eb7909f9a04da7ee7076ef028"
   }
  }
 },
 "nbformat": 4,
 "nbformat_minor": 5
}
